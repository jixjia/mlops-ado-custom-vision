{
  "cells": [
    {
      "cell_type": "markdown",
      "source": [
        "# Quickstart - MLOps for Cognitive Services\n",
        "Using Custom Vision trained model as an example. This template will implement step **(1)~(5)** in the architecture below\n",
        "\n",
        "Author:     Jixin Jia (Gin)   \n",
        "Version:    1.0     \n",
        "Date:       2022.03.15\n",
        "\n",
        "![image-alt-text](mlops-custom-vision.png)"
      ],
      "metadata": {
        "nteract": {
          "transient": {
            "deleting": false
          }
        }
      }
    },
    {
      "cell_type": "markdown",
      "source": [
        "\n"
      ],
      "metadata": {
        "nteract": {
          "transient": {
            "deleting": false
          }
        }
      }
    },
    {
      "cell_type": "markdown",
      "source": [
        "## Check Prerequisites\r\n",
        "Upgrade Azure ML Python SDK to >1.39 if not already installed"
      ],
      "metadata": {
        "nteract": {
          "transient": {
            "deleting": false
          }
        }
      }
    },
    {
      "cell_type": "code",
      "source": [
        "try:\n",
        "    from azureml.core import Workspace, Dataset, Datastore, Environment, Experiment, Run, Model, ScriptRunConfig, VERSION\n",
        "    from azureml.core.webservice import AciWebservice\n",
        "    from azureml.core.conda_dependencies import CondaDependencies\n",
        "    print('Current Azure ML Python SDK version:', VERSION)\n",
        "\n",
        "    if float('.'.join(VERSION.split('.')[:2])) < 1.39:\n",
        "        print('Upgrading SDK to 1.39...Restart kernel once done')\n",
        "        %pip install --upgrade azureml-core\n",
        "    else:\n",
        "        print('Done!')\n",
        "\n",
        "except Exception as e:\n",
        "    print(e.args)"
      ],
      "outputs": [
        {
          "output_type": "stream",
          "name": "stdout",
          "text": "Current Azure ML Python SDK version: 1.39.0\nDone!\n"
        }
      ],
      "execution_count": 1,
      "metadata": {
        "jupyter": {
          "source_hidden": false,
          "outputs_hidden": false
        },
        "nteract": {
          "transient": {
            "deleting": false
          }
        },
        "gather": {
          "logged": 1647391573353
        }
      }
    },
    {
      "cell_type": "markdown",
      "source": [
        "## Runtime parameters\n",
        "Configure appropriate value as per necessary"
      ],
      "metadata": {
        "nteract": {
          "transient": {
            "deleting": false
          }
        }
      }
    },
    {
      "cell_type": "code",
      "source": [
        "experiment_name = 'mlops-custom-vision'\n",
        "datastore_name = 'jixjiastoragegbb_public'\n",
        "dataset_name = 'mlops-custom-vision'\n",
        "comute_cluster_name = 'prod-ds4v2-x4'\n",
        "model_name = 'custom_vision_model'\n",
        "model_description = 'Custom Vision model for detecting vehicle license plate'\n",
        "inference_env_name = 'tf2.3-inference-opencv4.5'\n",
        "\n",
        "# This two should come from notification queue service when Cognitive Service \n",
        "# (i.e. our Custom Vision trained model) has finished training model and exported it to the designated Azure Blob Storage\n",
        "# for simplicity purpose, I'm omitting this notification mechanism from this template\n",
        "# and assume we have received the latest model artifacts in the following blob path\n",
        "model_path = 'models/saved_model.pb'\n",
        "label_path = 'models/labels.txt'"
      ],
      "outputs": [],
      "execution_count": 2,
      "metadata": {
        "jupyter": {
          "source_hidden": false,
          "outputs_hidden": false
        },
        "nteract": {
          "transient": {
            "deleting": false
          }
        },
        "gather": {
          "logged": 1647391667272
        }
      }
    },
    {
      "cell_type": "markdown",
      "source": [
        "## Initiate a Workspace and Experiment\n",
        "Centrally track model, environment, webservice container image as well as the Auto-Test validation result "
      ],
      "metadata": {
        "nteract": {
          "transient": {
            "deleting": false
          }
        }
      }
    },
    {
      "cell_type": "code",
      "source": [
        "import azureml.core\n",
        "from azureml.core import Workspace, Experiment\n",
        "\n",
        "# sepcficy workspace using current active config\n",
        "ws = Workspace.from_config()\n",
        "\n",
        "# setup Experiment for tracking\n",
        "exp = Experiment(workspace=ws, name=experiment_name)\n",
        "exp"
      ],
      "outputs": [
        {
          "output_type": "execute_result",
          "execution_count": 3,
          "data": {
            "text/plain": "Experiment(Name: mlops-custom-vision,\nWorkspace: ws-jixjia-azureml)",
            "text/html": "<table style=\"width:100%\"><tr><th>Name</th><th>Workspace</th><th>Report Page</th><th>Docs Page</th></tr><tr><td>mlops-custom-vision</td><td>ws-jixjia-azureml</td><td><a href=\"https://ml.azure.com/experiments/id/99f89ec3-c3f5-4d3c-a7da-a4f5ab267c33?wsid=/subscriptions/d7d72c6d-f9bf-48e3-b11e-6b6c9196e6bc/resourcegroups/rg-azureml/workspaces/ws-jixjia-azureml&amp;tid=72f988bf-86f1-41af-91ab-2d7cd011db47\" target=\"_blank\" rel=\"noopener\">Link to Azure Machine Learning studio</a></td><td><a href=\"https://docs.microsoft.com/en-us/python/api/azureml-core/azureml.core.experiment.Experiment?view=azure-ml-py\" target=\"_blank\" rel=\"noopener\">Link to Documentation</a></td></tr></table>"
          },
          "metadata": {}
        }
      ],
      "execution_count": 3,
      "metadata": {
        "jupyter": {
          "source_hidden": false,
          "outputs_hidden": false
        },
        "nteract": {
          "transient": {
            "deleting": false
          }
        },
        "gather": {
          "logged": 1647391672310
        }
      }
    },
    {
      "cell_type": "markdown",
      "source": [
        "## Secure Access to Model using Datastore & Dataset\n",
        "Retrieve test dataset (images) and trained model (Custom Vision) via registered Datasets for two major reasons:\n",
        "\n",
        "1. Secure access by abstracting away connection strings and credential   \n",
        "2. Version control and dataset tracking   \n",
        "\n",
        "**NOTE**   \n",
        "Please set up Datastore and Dataset first with appropriate level of SAS "
      ],
      "metadata": {
        "nteract": {
          "transient": {
            "deleting": false
          }
        }
      }
    },
    {
      "cell_type": "code",
      "source": [
        "from azureml.core import Datastore\n",
        "from azureml.core import Dataset\n",
        "\n",
        "# get a named datastore from the current workspace\n",
        "datastore = Datastore.get(ws, datastore_name=datastore_name)\n",
        "\n",
        "# list all registered datastores in current workspace\n",
        "if not datastore_name:\n",
        "    for name, datastore in ws.datastores.items():\n",
        "        print(name, datastore.datastore_type)\n",
        "\n",
        "\n",
        "# get the dataset with specified version\n",
        "dataset = Dataset.get_by_name(workspace=ws, name=dataset_name)\n",
        "\n",
        "print('Datastore:\\n', datastore, '\\n')\n",
        "print('Dataset:\\n', dataset)\n",
        "\n",
        "# retrieve latest trained model, label and test dataset (images) to compute instance \n",
        "dataset.download(target_path='.', overwrite=True)"
      ],
      "outputs": [
        {
          "output_type": "stream",
          "name": "stdout",
          "text": "Datastore:\n {\n  \"name\": \"jixjiastoragegbb_public\",\n  \"container_name\": \"public\",\n  \"account_name\": \"jixjiastoragegbb\",\n  \"protocol\": \"https\",\n  \"endpoint\": \"core.windows.net\"\n} \n\nDataset:\n FileDataset\n{\n  \"source\": [\n    \"('jixjiastoragegbb_public', 'mlops-custom-vision/')\"\n  ],\n  \"definition\": [\n    \"GetDatastoreFiles\"\n  ],\n  \"registration\": {\n    \"id\": \"cd253466-de24-4583-b1c4-8dbc018adaf9\",\n    \"name\": \"mlops-custom-vision\",\n    \"version\": 1,\n    \"description\": \"Vehicle license plate detection model and test dataset on jixjiastoragegbb public container\",\n    \"workspace\": \"Workspace.create(name='ws-jixjia-azureml', subscription_id='d7d72c6d-f9bf-48e3-b11e-6b6c9196e6bc', resource_group='rg-azureml')\"\n  }\n}\n"
        },
        {
          "output_type": "execute_result",
          "execution_count": 43,
          "data": {
            "text/plain": "['/mnt/batch/tasks/shared/LS_root/mounts/clusters/dev-cpu-ds4v2/code/Users/jixinjia/mlops-custom-vision/dataset/224636.43.jpg',\n '/mnt/batch/tasks/shared/LS_root/mounts/clusters/dev-cpu-ds4v2/code/Users/jixinjia/mlops-custom-vision/dataset/224658.77.jpg',\n '/mnt/batch/tasks/shared/LS_root/mounts/clusters/dev-cpu-ds4v2/code/Users/jixinjia/mlops-custom-vision/dataset/224700.41.jpg',\n '/mnt/batch/tasks/shared/LS_root/mounts/clusters/dev-cpu-ds4v2/code/Users/jixinjia/mlops-custom-vision/dataset/224859.19.jpg',\n '/mnt/batch/tasks/shared/LS_root/mounts/clusters/dev-cpu-ds4v2/code/Users/jixinjia/mlops-custom-vision/dataset/IMG_0201.JPG',\n '/mnt/batch/tasks/shared/LS_root/mounts/clusters/dev-cpu-ds4v2/code/Users/jixinjia/mlops-custom-vision/dataset/IMG_0209.JPG',\n '/mnt/batch/tasks/shared/LS_root/mounts/clusters/dev-cpu-ds4v2/code/Users/jixinjia/mlops-custom-vision/dataset/IMG_0224.JPG',\n '/mnt/batch/tasks/shared/LS_root/mounts/clusters/dev-cpu-ds4v2/code/Users/jixinjia/mlops-custom-vision/dataset/IMG_0307.JPG',\n '/mnt/batch/tasks/shared/LS_root/mounts/clusters/dev-cpu-ds4v2/code/Users/jixinjia/mlops-custom-vision/dataset/IMG_0331.JPG',\n '/mnt/batch/tasks/shared/LS_root/mounts/clusters/dev-cpu-ds4v2/code/Users/jixinjia/mlops-custom-vision/dataset/IMG_0400.JPG',\n '/mnt/batch/tasks/shared/LS_root/mounts/clusters/dev-cpu-ds4v2/code/Users/jixinjia/mlops-custom-vision/dataset/IMG_0599.JPG',\n '/mnt/batch/tasks/shared/LS_root/mounts/clusters/dev-cpu-ds4v2/code/Users/jixinjia/mlops-custom-vision/dataset/IMG_0607.JPG',\n '/mnt/batch/tasks/shared/LS_root/mounts/clusters/dev-cpu-ds4v2/code/Users/jixinjia/mlops-custom-vision/dataset/IMG_8339.JPG',\n '/mnt/batch/tasks/shared/LS_root/mounts/clusters/dev-cpu-ds4v2/code/Users/jixinjia/mlops-custom-vision/dataset/IMG_8426.JPG',\n '/mnt/batch/tasks/shared/LS_root/mounts/clusters/dev-cpu-ds4v2/code/Users/jixinjia/mlops-custom-vision/dataset/IMG_8483.JPG',\n '/mnt/batch/tasks/shared/LS_root/mounts/clusters/dev-cpu-ds4v2/code/Users/jixinjia/mlops-custom-vision/dataset/IMG_8533.JPG',\n '/mnt/batch/tasks/shared/LS_root/mounts/clusters/dev-cpu-ds4v2/code/Users/jixinjia/mlops-custom-vision/dataset/IMG_8535.JPG',\n '/mnt/batch/tasks/shared/LS_root/mounts/clusters/dev-cpu-ds4v2/code/Users/jixinjia/mlops-custom-vision/dataset/IMG_8601.JPG',\n '/mnt/batch/tasks/shared/LS_root/mounts/clusters/dev-cpu-ds4v2/code/Users/jixinjia/mlops-custom-vision/dataset/IMG_8620.JPG',\n '/mnt/batch/tasks/shared/LS_root/mounts/clusters/dev-cpu-ds4v2/code/Users/jixinjia/mlops-custom-vision/dataset/IMG_8687.JPG',\n '/mnt/batch/tasks/shared/LS_root/mounts/clusters/dev-cpu-ds4v2/code/Users/jixinjia/mlops-custom-vision/dataset/IMG_8749.JPG',\n '/mnt/batch/tasks/shared/LS_root/mounts/clusters/dev-cpu-ds4v2/code/Users/jixinjia/mlops-custom-vision/mlops-custom-vision.png',\n '/mnt/batch/tasks/shared/LS_root/mounts/clusters/dev-cpu-ds4v2/code/Users/jixinjia/mlops-custom-vision/models/labels.txt',\n '/mnt/batch/tasks/shared/LS_root/mounts/clusters/dev-cpu-ds4v2/code/Users/jixinjia/mlops-custom-vision/models/saved_model.pb']"
          },
          "metadata": {}
        }
      ],
      "execution_count": 43,
      "metadata": {
        "jupyter": {
          "source_hidden": false,
          "outputs_hidden": false
        },
        "nteract": {
          "transient": {
            "deleting": false
          }
        },
        "gather": {
          "logged": 1647395432901
        }
      }
    },
    {
      "cell_type": "markdown",
      "source": [
        "## Attach Compute Target\r\n",
        "Compute Target is used to validate if current model performs better than previous one on defined dataset and metrics.    \r\n",
        "Skip this part if not auto-test not required"
      ],
      "metadata": {
        "nteract": {
          "transient": {
            "deleting": false
          }
        }
      }
    },
    {
      "cell_type": "code",
      "source": [
        "from azureml.core.compute import AmlCompute\n",
        "from azureml.core.compute import ComputeTarget\n",
        "import os\n",
        "\n",
        "# check if specified compute cluster exists\n",
        "compute_name = os.environ.get(\"AML_COMPUTE_CLUSTER_NAME\", comute_cluster_name)\n",
        "\n",
        "if compute_name in ws.compute_targets:\n",
        "    compute_target = ws.compute_targets[compute_name]\n",
        "    if compute_target and type(compute_target) is AmlCompute:\n",
        "        print(\"Set compute target to the specified clsuter: \" + compute_name)\n",
        "\n",
        "else:\n",
        "    print(\"Creating new compute target...\")\n",
        "    \n",
        "    # define specification of the cluster to create\n",
        "    compute_min_nodes = os.environ.get(\"AML_COMPUTE_CLUSTER_MIN_NODES\", 0)\n",
        "    compute_max_nodes = os.environ.get(\"AML_COMPUTE_CLUSTER_MAX_NODES\", 4)\n",
        "    vm_size = os.environ.get(\"AML_COMPUTE_CLUSTER_SKU\", \"STANDARD_NC6\")\n",
        "    provisioning_config = AmlCompute.provisioning_configuration(vm_size = vm_size,\n",
        "                                                                min_nodes = compute_min_nodes, \n",
        "                                                                max_nodes = compute_max_nodes)\n",
        "\n",
        "    # create the cluster\n",
        "    compute_target = ComputeTarget.create(ws, compute_name, provisioning_config)\n",
        "    \n",
        "    # can poll for a minimum number of nodes and for a specific timeout. \n",
        "    # if no min node count is provided it will use the scale settings for the cluster\n",
        "    compute_target.wait_for_completion(show_output=True, min_node_count=None, timeout_in_minutes=20)\n",
        "    \n",
        "     # For a more detailed view of current AmlCompute status, use get_status()\n",
        "    print(compute_target.get_status().serialize())"
      ],
      "outputs": [
        {
          "output_type": "stream",
          "name": "stdout",
          "text": "Set compute target to the specified clsuter: prod-ds4v2-x4\n"
        }
      ],
      "execution_count": 4,
      "metadata": {
        "jupyter": {
          "source_hidden": false,
          "outputs_hidden": false
        },
        "nteract": {
          "transient": {
            "deleting": false
          }
        },
        "gather": {
          "logged": 1647391722536
        }
      }
    },
    {
      "cell_type": "markdown",
      "source": [
        "## Build Environment (CI)\n",
        "In this CI process we will:    \n",
        "1. Package runtime and dependencies into a container image    \n",
        "2. Register it on Azure ML and push container image to ACR\n",
        "\n",
        "This step will be used for Auto-Test and Deployment"
      ],
      "metadata": {
        "nteract": {
          "transient": {
            "deleting": false
          }
        }
      }
    },
    {
      "cell_type": "markdown",
      "source": [
        "### Conda YAML definition"
      ],
      "metadata": {
        "nteract": {
          "transient": {
            "deleting": false
          }
        }
      }
    },
    {
      "cell_type": "code",
      "source": [
        "%%writefile inference_conda.yml\n",
        "\n",
        "dependencies:\n",
        "- python=3.8.1\n",
        "- pip:\n",
        "  - azureml-dataset-runtime[pandas,fuse]\n",
        "  - azureml-defaults\n",
        "  - opencv-python-headless==4.5.4.60\n",
        "  - tensorflow==2.3.1\n",
        "  - numpy==1.18.5\n",
        "  - pandas==1.1.4\n",
        "  - imutils==0.5.3\n",
        "  - Pillow==8.0.1\n",
        "  - requests==2.24.0\n",
        "  - matplotlib==3.2.2\n",
        "  - urllib3==1.25.11  \n",
        "  - requests==2.24.0"
      ],
      "outputs": [
        {
          "output_type": "stream",
          "name": "stdout",
          "text": "Writing inference_conda.yml\n"
        }
      ],
      "execution_count": 44,
      "metadata": {
        "jupyter": {
          "source_hidden": false,
          "outputs_hidden": false
        },
        "nteract": {
          "transient": {
            "deleting": false
          }
        }
      }
    },
    {
      "cell_type": "markdown",
      "source": [
        "### Register the Environment for reuse so that we avoid re-building it every time "
      ],
      "metadata": {
        "nteract": {
          "transient": {
            "deleting": false
          }
        }
      }
    },
    {
      "cell_type": "code",
      "source": [
        "from azureml.core import Environment\n",
        "\n",
        "# register env for inference\n",
        "inference_env = Environment.from_conda_specification(name=inference_env_name, file_path='./inference_conda.yml')\n",
        "\n",
        "# register inference env\n",
        "inference_env.register(workspace=ws)"
      ],
      "outputs": [
        {
          "output_type": "execute_result",
          "execution_count": 24,
          "data": {
            "text/plain": "{\n    \"databricks\": {\n        \"eggLibraries\": [],\n        \"jarLibraries\": [],\n        \"mavenLibraries\": [],\n        \"pypiLibraries\": [],\n        \"rcranLibraries\": []\n    },\n    \"docker\": {\n        \"arguments\": [],\n        \"baseDockerfile\": null,\n        \"baseImage\": \"mcr.microsoft.com/azureml/openmpi3.1.2-ubuntu18.04:20220208.v1\",\n        \"baseImageRegistry\": {\n            \"address\": null,\n            \"password\": null,\n            \"registryIdentity\": null,\n            \"username\": null\n        },\n        \"enabled\": false,\n        \"platform\": {\n            \"architecture\": \"amd64\",\n            \"os\": \"Linux\"\n        },\n        \"sharedVolumes\": true,\n        \"shmSize\": null\n    },\n    \"environmentVariables\": {\n        \"EXAMPLE_ENV_VAR\": \"EXAMPLE_VALUE\"\n    },\n    \"inferencingStackVersion\": null,\n    \"name\": \"tf2.3-inference-opencv4.5\",\n    \"python\": {\n        \"baseCondaEnvironment\": null,\n        \"condaDependencies\": {\n            \"dependencies\": [\n                \"python=3.8.1\",\n                {\n                    \"pip\": [\n                        \"azureml-dataset-runtime[pandas,fuse]\",\n                        \"azureml-defaults\",\n                        \"opencv-python-headless==4.5.4.60\",\n                        \"tensorflow==2.3.1\",\n                        \"numpy==1.18.5\",\n                        \"pandas==1.1.4\",\n                        \"imutils==0.5.3\",\n                        \"Pillow==8.0.1\",\n                        \"requests==2.24.0\",\n                        \"matplotlib==3.2.2\",\n                        \"urllib3==1.25.11\",\n                        \"requests==2.24.0\"\n                    ]\n                }\n            ],\n            \"name\": \"azureml_3abed68549cdd5fd8eec3824a7d459b0\"\n        },\n        \"condaDependenciesFile\": null,\n        \"interpreterPath\": \"python\",\n        \"userManagedDependencies\": false\n    },\n    \"r\": null,\n    \"spark\": {\n        \"packages\": [],\n        \"precachePackages\": true,\n        \"repositories\": []\n    },\n    \"version\": \"5\"\n}"
          },
          "metadata": {}
        }
      ],
      "execution_count": 24,
      "metadata": {
        "jupyter": {
          "source_hidden": false,
          "outputs_hidden": false
        },
        "nteract": {
          "transient": {
            "deleting": false
          }
        },
        "gather": {
          "logged": 1647392744781
        }
      }
    },
    {
      "cell_type": "markdown",
      "source": [
        "## Auto-Test"
      ],
      "metadata": {
        "nteract": {
          "transient": {
            "deleting": false
          }
        }
      }
    },
    {
      "cell_type": "markdown",
      "source": [
        "### Prepare for test environment"
      ],
      "metadata": {
        "nteract": {
          "transient": {
            "deleting": false
          }
        }
      }
    },
    {
      "cell_type": "code",
      "source": [
        "import os\n",
        "import shutil\n",
        "\n",
        "# package all test artifacts into a `test` folder\n",
        "script_folder = os.path.join(os.getcwd(), 'test')\n",
        "os.makedirs(script_folder, exist_ok=True)\n",
        "\n",
        "# move utils and dependent modules to script_folder\n",
        "for src in('utils', 'models'):\n",
        "    dst = os.path.join(script_folder, src)\n",
        "    shutil.copytree(src, dst, dirs_exist_ok=True)"
      ],
      "outputs": [],
      "execution_count": 41,
      "metadata": {
        "jupyter": {
          "source_hidden": false,
          "outputs_hidden": false
        },
        "nteract": {
          "transient": {
            "deleting": false
          }
        },
        "gather": {
          "logged": 1647395396198
        }
      }
    },
    {
      "cell_type": "markdown",
      "source": [
        "### Prepare for `test.py` and add `Azure ML Run Experiment`"
      ],
      "metadata": {
        "nteract": {
          "transient": {
            "deleting": false
          }
        }
      }
    },
    {
      "cell_type": "code",
      "source": [
        "%%writefile $script_folder/auto-test.py\n",
        "\n",
        "'''\n",
        "Author:     Jixin Jia (Gin)\n",
        "Date:       2022.03.15\n",
        "Version:    1.0\n",
        "Purpose:    This script evaluates model performance by running it against a defined set of test images, \n",
        "            and track its performance in Run Experiments \n",
        "'''\n",
        "\n",
        "import cv2\n",
        "import os\n",
        "import numpy as np\n",
        "import base64\n",
        "import json\n",
        "from urllib.parse import urlparse\n",
        "import argparse\n",
        "\n",
        "# App utilities\n",
        "from utils import config\n",
        "from utils import vehicle_plate as vp\n",
        "from utils import video_utilities as vu\n",
        "\n",
        "# experiment tracking with azureml/mlflow\n",
        "from azureml.core.run import Run\n",
        "run = Run.get_context()\n",
        "\n",
        "# get FUSE mount dataset\n",
        "ap = argparse.ArgumentParser()\n",
        "ap.add_argument(\"-d\", \"--data_folder\", type=str, default=\"datasets\", help=\"path to test dataset on FUSE mount\")\n",
        "args = ap.parse_args()\n",
        "\n",
        "# debug\n",
        "dataset_path = os.path.join(args.data_folder,'dataset')\n",
        "print('[GIN] dataset path on remote compute:', dataset_path)\n",
        "\n",
        "# load trained model (.pb)\n",
        "try:\n",
        "    print('Loading vehicle plate detection model...', end='')\n",
        "    model_path = config.MODEL_PATH\n",
        "    label_path = config.LABEL_PATH\n",
        "    \n",
        "    model = vp.Model(model_path)\n",
        "\n",
        "    with open(label_path) as f:\n",
        "        labels = [l.strip() for l in f.readlines()]\n",
        "    \n",
        "    print('Done')\n",
        "\n",
        "except Exception as e:\n",
        "    print(e.args)\n",
        "\n",
        "# create an outputs folder for tracking artifacts\n",
        "os.makedirs('outputs', exist_ok=True)\n",
        "\n",
        "# inference on test dataset\n",
        "image_count = 0\n",
        "results = []\n",
        "\n",
        "for f in os.listdir(dataset_path):\n",
        "\n",
        "    if f.lower().endswith(('jpg','png')):\n",
        "        \n",
        "        # output name\n",
        "        output_name = f'auto-test_{f}'\n",
        "        output_path = os.path.join('outputs',output_name)\n",
        "\n",
        "        # read image\n",
        "        image = cv2.imread(os.path.join(dataset_path, f))\n",
        "\n",
        "        # detect vehicle plates\n",
        "        preds = model.predict(image)\n",
        "\n",
        "        # inspect preds\n",
        "        for pred in zip(*preds):\n",
        "            lpBBOX, prob = pred[:2]\n",
        "            \n",
        "            if prob > config.LP_CONFIDENCE:\n",
        "                # get safe bbox\n",
        "                startX, startY, endX, endY = model.translate_bbox(image, lpBBOX)\n",
        "\n",
        "                # pack into output list\n",
        "                results.append({'bbox': (startX, startY, endX, endY), 'prob': prob})\n",
        "\n",
        "                # draw\n",
        "                image = vu.draw_bbox_with_label(image, f'{prob:.3f}', (startX, startY, endX, endY))\n",
        "\n",
        "        # log image\n",
        "        cv2.imwrite(output_path, image, [int(cv2.IMWRITE_JPEG_QUALITY), config.JPEG_QUALITY])\n",
        "        run.log_image(name=output_name, path=output_path, plot=None, description='auto-test')\n",
        "        \n",
        "        image_count += 1\n",
        "\n",
        "# simple evaluation logic, EXAMPLE only\n",
        "total_predicted = len(results)\n",
        "avg_prob = np.mean([i['prob'] for i in results])\n",
        "test_acc = round(total_predicted / image_count, 2)\n",
        "\n",
        "# log metrics\n",
        "run.log('total_predicted', total_predicted)\n",
        "run.log('avg_prob', avg_prob)\n",
        "run.log('test_acc', test_acc)"
      ],
      "outputs": [
        {
          "output_type": "stream",
          "name": "stdout",
          "text": "Overwriting /mnt/batch/tasks/shared/LS_root/mounts/clusters/dev-cpu-ds4v2/code/Users/jixinjia/mlops-custom-vision/test/auto-test.py\n"
        }
      ],
      "execution_count": 127,
      "metadata": {
        "jupyter": {
          "source_hidden": false,
          "outputs_hidden": false
        },
        "nteract": {
          "transient": {
            "deleting": false
          }
        }
      }
    },
    {
      "cell_type": "markdown",
      "source": [
        "### FUSE mount test dataset onto Compute Cluster"
      ],
      "metadata": {
        "nteract": {
          "transient": {
            "deleting": false
          }
        }
      }
    },
    {
      "cell_type": "code",
      "source": [
        "# mount the dataset onto compute target \n",
        "input_data = dataset.as_mount()\n",
        "\n",
        "# show dataset's path (TOP 5)\n",
        "dataset.to_path()[:5]"
      ],
      "outputs": [
        {
          "output_type": "execute_result",
          "execution_count": 44,
          "data": {
            "text/plain": "['/dataset/224636.43.jpg',\n '/dataset/224658.77.jpg',\n '/dataset/224700.41.jpg',\n '/dataset/224859.19.jpg',\n '/dataset/IMG_0201.JPG']"
          },
          "metadata": {}
        }
      ],
      "execution_count": 44,
      "metadata": {
        "jupyter": {
          "source_hidden": false,
          "outputs_hidden": false
        },
        "nteract": {
          "transient": {
            "deleting": false
          }
        },
        "gather": {
          "logged": 1647395461150
        }
      }
    },
    {
      "cell_type": "markdown",
      "source": [
        "### Submit test to Compute Cluster"
      ],
      "metadata": {
        "nteract": {
          "transient": {
            "deleting": false
          }
        }
      }
    },
    {
      "cell_type": "code",
      "source": [
        "# if azureml.widgets not installed\n",
        "# %pip install azureml-widgets\n",
        "\n",
        "from azureml.core import ScriptRunConfig\n",
        "from azureml.widgets import RunDetails\n",
        "\n",
        "# auto-test job config\n",
        "src = ScriptRunConfig(source_directory = script_folder,\n",
        "                      script = 'auto-test.py',\n",
        "                      arguments = ['--data_folder', input_data],\n",
        "                      compute_target = compute_target,\n",
        "                      environment = inference_env)\n",
        "\n",
        "# submit job and start tracking\n",
        "run = exp.submit(config=src)\n",
        "\n",
        "# monitor run\n",
        "RunDetails(run).show()"
      ],
      "outputs": [
        {
          "output_type": "display_data",
          "data": {
            "text/plain": "_UserRunWidget(widget_settings={'childWidgetDisplay': 'popup', 'send_telemetry': False, 'log_level': 'INFO', '…",
            "application/vnd.jupyter.widget-view+json": {
              "version_major": 2,
              "version_minor": 0,
              "model_id": "705bd50638ce4fa49037d08e547f706d"
            }
          },
          "metadata": {}
        },
        {
          "output_type": "display_data",
          "data": {
            "application/aml.mini.widget.v1": "{\"status\": \"Completed\", \"workbench_run_details_uri\": \"https://ml.azure.com/runs/mlops-custom-vision_1647395471_f73f545c?wsid=/subscriptions/d7d72c6d-f9bf-48e3-b11e-6b6c9196e6bc/resourcegroups/rg-azureml/workspaces/ws-jixjia-azureml&tid=72f988bf-86f1-41af-91ab-2d7cd011db47\", \"run_id\": \"mlops-custom-vision_1647395471_f73f545c\", \"run_properties\": {\"run_id\": \"mlops-custom-vision_1647395471_f73f545c\", \"created_utc\": \"2022-03-16T01:51:13.895542Z\", \"properties\": {\"_azureml.ComputeTargetType\": \"amlcompute\", \"ContentSnapshotId\": \"db2dbea8-244b-4597-9ae8-24d0ce164121\", \"ProcessInfoFile\": \"azureml-logs/process_info.json\", \"ProcessStatusFile\": \"azureml-logs/process_status.json\"}, \"tags\": {\"_aml_system_ComputeTargetStatus\": \"{\\\"AllocationState\\\":\\\"steady\\\",\\\"PreparingNodeCount\\\":0,\\\"RunningNodeCount\\\":0,\\\"CurrentNodeCount\\\":0}\"}, \"script_name\": null, \"arguments\": null, \"end_time_utc\": \"2022-03-16T01:54:00.002526Z\", \"status\": \"Completed\", \"log_files\": {}, \"log_groups\": [], \"run_duration\": \"0:02:46\", \"run_number\": \"1647395473\", \"run_queued_details\": {\"status\": \"Completed\", \"details\": null}}, \"child_runs\": [], \"children_metrics\": {}, \"run_metrics\": [{\"name\": \"auto-test_224636.43.jpg\", \"run_id\": \"mlops-custom-vision_1647395471_f73f545c\", \"categories\": [0], \"series\": [{\"data\": [\"aml://artifactId/ExperimentRun/dcid.mlops-custom-vision_1647395471_f73f545c/outputs/auto-test_224636.43.jpg\"]}]}, {\"name\": \"auto-test_224658.77.jpg\", \"run_id\": \"mlops-custom-vision_1647395471_f73f545c\", \"categories\": [0], \"series\": [{\"data\": [\"aml://artifactId/ExperimentRun/dcid.mlops-custom-vision_1647395471_f73f545c/outputs/auto-test_224658.77.jpg\"]}]}, {\"name\": \"auto-test_224700.41.jpg\", \"run_id\": \"mlops-custom-vision_1647395471_f73f545c\", \"categories\": [0], \"series\": [{\"data\": [\"aml://artifactId/ExperimentRun/dcid.mlops-custom-vision_1647395471_f73f545c/outputs/auto-test_224700.41.jpg\"]}]}, {\"name\": \"auto-test_224859.19.jpg\", \"run_id\": \"mlops-custom-vision_1647395471_f73f545c\", \"categories\": [0], \"series\": [{\"data\": [\"aml://artifactId/ExperimentRun/dcid.mlops-custom-vision_1647395471_f73f545c/outputs/auto-test_224859.19.jpg\"]}]}, {\"name\": \"auto-test_IMG_0201.JPG\", \"run_id\": \"mlops-custom-vision_1647395471_f73f545c\", \"categories\": [0], \"series\": [{\"data\": [\"aml://artifactId/ExperimentRun/dcid.mlops-custom-vision_1647395471_f73f545c/outputs/auto-test_IMG_0201.JPG\"]}]}, {\"name\": \"auto-test_IMG_0209.JPG\", \"run_id\": \"mlops-custom-vision_1647395471_f73f545c\", \"categories\": [0], \"series\": [{\"data\": [\"aml://artifactId/ExperimentRun/dcid.mlops-custom-vision_1647395471_f73f545c/outputs/auto-test_IMG_0209.JPG\"]}]}, {\"name\": \"auto-test_IMG_0224.JPG\", \"run_id\": \"mlops-custom-vision_1647395471_f73f545c\", \"categories\": [0], \"series\": [{\"data\": [\"aml://artifactId/ExperimentRun/dcid.mlops-custom-vision_1647395471_f73f545c/outputs/auto-test_IMG_0224.JPG\"]}]}, {\"name\": \"auto-test_IMG_0307.JPG\", \"run_id\": \"mlops-custom-vision_1647395471_f73f545c\", \"categories\": [0], \"series\": [{\"data\": [\"aml://artifactId/ExperimentRun/dcid.mlops-custom-vision_1647395471_f73f545c/outputs/auto-test_IMG_0307.JPG\"]}]}, {\"name\": \"auto-test_IMG_0331.JPG\", \"run_id\": \"mlops-custom-vision_1647395471_f73f545c\", \"categories\": [0], \"series\": [{\"data\": [\"aml://artifactId/ExperimentRun/dcid.mlops-custom-vision_1647395471_f73f545c/outputs/auto-test_IMG_0331.JPG\"]}]}, {\"name\": \"auto-test_IMG_0400.JPG\", \"run_id\": \"mlops-custom-vision_1647395471_f73f545c\", \"categories\": [0], \"series\": [{\"data\": [\"aml://artifactId/ExperimentRun/dcid.mlops-custom-vision_1647395471_f73f545c/outputs/auto-test_IMG_0400.JPG\"]}]}, {\"name\": \"auto-test_IMG_0599.JPG\", \"run_id\": \"mlops-custom-vision_1647395471_f73f545c\", \"categories\": [0], \"series\": [{\"data\": [\"aml://artifactId/ExperimentRun/dcid.mlops-custom-vision_1647395471_f73f545c/outputs/auto-test_IMG_0599.JPG\"]}]}, {\"name\": \"auto-test_IMG_0607.JPG\", \"run_id\": \"mlops-custom-vision_1647395471_f73f545c\", \"categories\": [0], \"series\": [{\"data\": [\"aml://artifactId/ExperimentRun/dcid.mlops-custom-vision_1647395471_f73f545c/outputs/auto-test_IMG_0607.JPG\"]}]}, {\"name\": \"auto-test_IMG_8339.JPG\", \"run_id\": \"mlops-custom-vision_1647395471_f73f545c\", \"categories\": [0], \"series\": [{\"data\": [\"aml://artifactId/ExperimentRun/dcid.mlops-custom-vision_1647395471_f73f545c/outputs/auto-test_IMG_8339.JPG\"]}]}, {\"name\": \"auto-test_IMG_8426.JPG\", \"run_id\": \"mlops-custom-vision_1647395471_f73f545c\", \"categories\": [0], \"series\": [{\"data\": [\"aml://artifactId/ExperimentRun/dcid.mlops-custom-vision_1647395471_f73f545c/outputs/auto-test_IMG_8426.JPG\"]}]}, {\"name\": \"auto-test_IMG_8483.JPG\", \"run_id\": \"mlops-custom-vision_1647395471_f73f545c\", \"categories\": [0], \"series\": [{\"data\": [\"aml://artifactId/ExperimentRun/dcid.mlops-custom-vision_1647395471_f73f545c/outputs/auto-test_IMG_8483.JPG\"]}]}, {\"name\": \"auto-test_IMG_8533.JPG\", \"run_id\": \"mlops-custom-vision_1647395471_f73f545c\", \"categories\": [0], \"series\": [{\"data\": [\"aml://artifactId/ExperimentRun/dcid.mlops-custom-vision_1647395471_f73f545c/outputs/auto-test_IMG_8533.JPG\"]}]}, {\"name\": \"auto-test_IMG_8535.JPG\", \"run_id\": \"mlops-custom-vision_1647395471_f73f545c\", \"categories\": [0], \"series\": [{\"data\": [\"aml://artifactId/ExperimentRun/dcid.mlops-custom-vision_1647395471_f73f545c/outputs/auto-test_IMG_8535.JPG\"]}]}, {\"name\": \"auto-test_IMG_8601.JPG\", \"run_id\": \"mlops-custom-vision_1647395471_f73f545c\", \"categories\": [0], \"series\": [{\"data\": [\"aml://artifactId/ExperimentRun/dcid.mlops-custom-vision_1647395471_f73f545c/outputs/auto-test_IMG_8601.JPG\"]}]}, {\"name\": \"auto-test_IMG_8620.JPG\", \"run_id\": \"mlops-custom-vision_1647395471_f73f545c\", \"categories\": [0], \"series\": [{\"data\": [\"aml://artifactId/ExperimentRun/dcid.mlops-custom-vision_1647395471_f73f545c/outputs/auto-test_IMG_8620.JPG\"]}]}, {\"name\": \"auto-test_IMG_8687.JPG\", \"run_id\": \"mlops-custom-vision_1647395471_f73f545c\", \"categories\": [0], \"series\": [{\"data\": [\"aml://artifactId/ExperimentRun/dcid.mlops-custom-vision_1647395471_f73f545c/outputs/auto-test_IMG_8687.JPG\"]}]}, {\"name\": \"auto-test_IMG_8749.JPG\", \"run_id\": \"mlops-custom-vision_1647395471_f73f545c\", \"categories\": [0], \"series\": [{\"data\": [\"aml://artifactId/ExperimentRun/dcid.mlops-custom-vision_1647395471_f73f545c/outputs/auto-test_IMG_8749.JPG\"]}]}, {\"name\": \"total_predicted\", \"run_id\": \"mlops-custom-vision_1647395471_f73f545c\", \"categories\": [0], \"series\": [{\"data\": [21]}]}, {\"name\": \"avg_prob\", \"run_id\": \"mlops-custom-vision_1647395471_f73f545c\", \"categories\": [0], \"series\": [{\"data\": [0.906667172908783]}]}, {\"name\": \"test_acc\", \"run_id\": \"mlops-custom-vision_1647395471_f73f545c\", \"categories\": [0], \"series\": [{\"data\": [1.0]}]}], \"run_logs\": \"\\nRun is completed.\", \"graph\": {}, \"widget_settings\": {\"childWidgetDisplay\": \"popup\", \"send_telemetry\": false, \"log_level\": \"INFO\", \"sdk_version\": \"1.39.0\"}, \"loading\": false}"
          },
          "metadata": {}
        }
      ],
      "execution_count": 45,
      "metadata": {
        "jupyter": {
          "source_hidden": false,
          "outputs_hidden": false
        },
        "nteract": {
          "transient": {
            "deleting": false
          }
        },
        "gather": {
          "logged": 1647395474210
        }
      }
    },
    {
      "cell_type": "markdown",
      "source": [
        "### Eye ball on auto-test results\n",
        "\n",
        "![image-alt-text](auto-test-result-for-eyeballing.jpg)"
      ],
      "metadata": {
        "nteract": {
          "transient": {
            "deleting": false
          }
        }
      }
    },
    {
      "cell_type": "markdown",
      "source": [
        "## Track model performance\n",
        "![image-alt-text](track-test-performance.jpg)"
      ],
      "metadata": {
        "nteract": {
          "transient": {
            "deleting": false
          }
        }
      }
    },
    {
      "cell_type": "markdown",
      "source": [
        "## Register Model\r\n",
        "If unit test has passed and had shown a **better performance** on the pre-defined metrics than its predecessors, we will move the new model to production (i.e. Gated release)    \r\n",
        "Unfortunately right now the Azure ML does not support **\"human in-the-loop\" approval process**"
      ],
      "metadata": {
        "nteract": {
          "transient": {
            "deleting": false
          }
        }
      }
    },
    {
      "cell_type": "code",
      "source": [
        "from azureml.core.model import Model\n",
        "from azureml.core.resource_configuration import ResourceConfiguration\n",
        "\n",
        "# register the latest Custom Vision model for version tracking (auto increment)\n",
        "model_dir = os.path.dirname(model_path)\n",
        "\n",
        "model = Model.register(workspace = ws,\n",
        "                       model_name = model_name,\n",
        "                       model_path = model_dir,\n",
        "                       model_framework = Model.Framework.TENSORFLOW,\n",
        "                       tags = {'source': \"custom_vision\", 'type': \"object_detection\"},\n",
        "                       description = model_description,\n",
        "                       resource_configuration = ResourceConfiguration(cpu=1, memory_in_gb=2),\n",
        "                       )\n",
        "\n",
        "print('Registered:', model.name, model.version)"
      ],
      "outputs": [
        {
          "output_type": "stream",
          "name": "stdout",
          "text": "Registering model custom_vision_model\nRegistered: custom_vision_model 9\n"
        }
      ],
      "execution_count": 13,
      "metadata": {
        "jupyter": {
          "source_hidden": false,
          "outputs_hidden": false
        },
        "nteract": {
          "transient": {
            "deleting": false
          }
        },
        "gather": {
          "logged": 1647392236512
        }
      }
    },
    {
      "cell_type": "markdown",
      "source": [
        "## Deploy (CD)\r\n",
        "In this CD process we will:    \r\n",
        "1. Create and register packaged environment (docker pull)   \r\n",
        "2. Setup IaC for provisioning host service   \r\n",
        "3. Buid WSGI webservice based on Falsk/Gunicorn/Nginx   "
      ],
      "metadata": {
        "nteract": {
          "transient": {
            "deleting": false
          }
        }
      }
    },
    {
      "cell_type": "markdown",
      "source": [
        "### Create a `deploy` folder to package all serving components    \n",
        "This folder contains source code for running the model as an API webservice"
      ],
      "metadata": {
        "nteract": {
          "transient": {
            "deleting": false
          }
        }
      }
    },
    {
      "cell_type": "code",
      "source": [
        "import os\n",
        "import shutil\n",
        "\n",
        "# create a `deploy` folder consolidating all inference artifacts\n",
        "deploy_folder = os.path.join(os.getcwd(), 'deploy')\n",
        "os.makedirs(deploy_folder, exist_ok=True)\n",
        "\n",
        "# move utils and dependent modules to deploy_folder\n",
        "src = 'utils'\n",
        "dst = os.path.join(deploy_folder, src)\n",
        "shutil.copytree(src, dst, dirs_exist_ok=True)"
      ],
      "outputs": [
        {
          "output_type": "execute_result",
          "execution_count": 19,
          "data": {
            "text/plain": "'/mnt/batch/tasks/shared/LS_root/mounts/clusters/dev-cpu-ds4v2/code/Users/jixinjia/mlops-custom-vision/deploy/utils'"
          },
          "metadata": {}
        }
      ],
      "execution_count": 19,
      "metadata": {
        "jupyter": {
          "source_hidden": false,
          "outputs_hidden": false
        },
        "nteract": {
          "transient": {
            "deleting": false
          }
        },
        "gather": {
          "logged": 1647392366603
        }
      }
    },
    {
      "cell_type": "markdown",
      "source": [
        "### Write Webservice/API function into `deploy`   \n",
        "This scoring function will handling incoming inference data (i.e. image blob), run it against our model and produce JSON response"
      ],
      "metadata": {
        "nteract": {
          "transient": {
            "deleting": false
          }
        }
      }
    },
    {
      "cell_type": "code",
      "source": [
        "%%writefile $deploy_folder/score.py\n",
        "\n",
        "'''\n",
        "Author:     Jixin Jia (Gin)\n",
        "Date:       2022.03.15\n",
        "Version:    1.0\n",
        "Purpose:    Create this scoring function to serve vehicle license plate detection as an API webservice\n",
        "'''\n",
        "\n",
        "import cv2\n",
        "import os\n",
        "import numpy as np\n",
        "import base64\n",
        "import json\n",
        "from urllib.parse import urlparse\n",
        "\n",
        "# load model class and utilities\n",
        "from utils import config\n",
        "from utils import vehicle_plate as vp\n",
        "from utils import video_utilities as vu\n",
        "\n",
        "def init():\n",
        "    global model\n",
        "\n",
        "    # AZUREML_MODEL_DIR is an environment variable created during deployment for ACS/AKS (./azureml-models/$MODEL_NAME/$VERSION)\n",
        "    model_path = os.path.join(os.getenv('AZUREML_MODEL_DIR'), config.MODEL_PATH)\n",
        "    label_path = config.LABEL_PATH\n",
        "\n",
        "    # load serialized trained model (.pb)\n",
        "    try:\n",
        "        print('Loading vehicle plate detection model...')\n",
        "        model = vp.Model(model_path)\n",
        "\n",
        "        print('[DEBUG] loaded model ->', model)\n",
        "        print('Done!')\n",
        "\n",
        "    except Exception as e:\n",
        "        print('[DEBUG]', e.args)\n",
        "\n",
        "\n",
        "def run(raw_data):\n",
        "\n",
        "    # parse json payload\n",
        "    data = json.loads(raw_data)\n",
        "\n",
        "    try:\n",
        "        # check if data contains a URL\n",
        "        parsed = urlparse(data['data'])\n",
        "\n",
        "        if all([parsed.scheme, parsed.netloc]):\n",
        "            # retrieve image via the supplied URL\n",
        "            image = vu.download_image(data['data'])\n",
        "        \n",
        "        # else decode base64 image string\n",
        "        else:\n",
        "            image = base64.b64decode(data['data'])\n",
        "            img_array = np.asarray(bytearray(image), dtype=np.uint8)\n",
        "            image = cv2.imdecode(img_array, -1)\n",
        "    \n",
        "    except Exception as e:\n",
        "        return {'message':'Unable to decode supplied image. Supply a valid URL or a base64 encoded image string.'}\n",
        "\n",
        "\n",
        "    # detect vehicle plates\n",
        "    preds = model.predict(image)\n",
        "\n",
        "    # inspect predictions\n",
        "    results = []\n",
        "    for pred in zip(*preds):\n",
        "        lpBBOX, prob = pred[:2]\n",
        "\n",
        "        # convert 0d tensor to numpy\n",
        "        prob = prob.numpy()\n",
        "        \n",
        "        if prob > config.LP_CONFIDENCE:\n",
        "            # get safe bbox\n",
        "            startX, startY, endX, endY = model.translate_bbox(image, lpBBOX)\n",
        "\n",
        "            # pack into output list\n",
        "            results.append({'startX':startX, 'startY':startY, 'endX':endX, 'endY':endY, 'prob': float(prob)})\n",
        "    \n",
        "    return results"
      ],
      "outputs": [
        {
          "output_type": "stream",
          "name": "stdout",
          "text": "Overwriting /mnt/batch/tasks/shared/LS_root/mounts/clusters/dev-cpu-ds4v2/code/Users/jixinjia/mlops-custom-vision/deploy/score.py\n"
        }
      ],
      "execution_count": 46,
      "metadata": {
        "jupyter": {
          "source_hidden": false,
          "outputs_hidden": false
        },
        "nteract": {
          "transient": {
            "deleting": false
          }
        },
        "ms_comments": [
          {
            "threadId": "b3f14176-e277-4556-93b4-dfacca8eeff1",
            "text": "[IMPORTANT]\nACI/AKS container Flask doesn't handle Tensor and tuple in JSON dump. Convert to regular non complex type (e.g. np.float32 to float).",
            "status": "active",
            "user": {
              "name": "Jixin (Gin) Jia",
              "idType": "aad"
            },
            "createdDateUTC": 1647394853591,
            "modifiedDateUTC": 1647394961359,
            "replies": []
          }
        ],
        "ms_comment_ranges": {
          "b3f14176-e277-4556-93b4-dfacca8eeff1": {
            "text": "results.append({'startX':startX, 'startY':startY, 'endX':endX, 'endY':endY, 'prob': float(prob)})",
            "start": {
              "line": 80,
              "column": 13
            },
            "end": {
              "line": 80,
              "column": 110
            }
          }
        }
      }
    },
    {
      "cell_type": "markdown",
      "source": [
        "### Release to Production (ACS or AKS)"
      ],
      "metadata": {
        "nteract": {
          "transient": {
            "deleting": false
          }
        }
      }
    },
    {
      "cell_type": "code",
      "source": [
        "%%time\n",
        "import uuid\n",
        "from azureml.core.webservice import Webservice\n",
        "from azureml.core.model import InferenceConfig\n",
        "from azureml.core.environment import Environment\n",
        "from azureml.core import Workspace\n",
        "from azureml.core.model import Model\n",
        "from azureml.core.webservice import AciWebservice\n",
        "\n",
        "# container host\n",
        "aci_config = AciWebservice.deploy_configuration(cpu_cores = 1, \n",
        "                                               memory_gb = 2, \n",
        "                                               tags = {'model':model_name, 'framework':inference_env_name}, \n",
        "                                               description = model_description)\n",
        "\n",
        "# inference config\n",
        "inference_config = InferenceConfig(entry_script = \"score.py\", \n",
        "                                   source_directory = deploy_folder, \n",
        "                                   environment = inference_env,\n",
        "                                   enable_gpu = False)\n",
        "\n",
        "# container host name (using model version as suffix)\n",
        "service_name = f'mlops-custom-vision-v{model.version}'\n",
        "\n",
        "service = Model.deploy(workspace = ws, \n",
        "                       name = service_name, \n",
        "                       models = [model], \n",
        "                       inference_config = inference_config, \n",
        "                       deployment_config = aci_config,\n",
        "                       overwrite = True)\n",
        "\n",
        "service.wait_for_deployment(show_output=True)"
      ],
      "outputs": [
        {
          "output_type": "stream",
          "name": "stdout",
          "text": "Tips: You can try get_logs(): https://aka.ms/debugimage#dockerlog or local deployment: https://aka.ms/debugimage#debug-locally to debug if deployment takes longer than 10 minutes.\nRunning\n2022-03-16 01:43:21+00:00 Creating Container Registry if not exists.\n2022-03-16 01:43:21+00:00 Registering the environment.\n2022-03-16 01:43:22+00:00 Use the existing image.\n2022-03-16 01:43:22+00:00 Generating deployment configuration.\n2022-03-16 01:43:23+00:00 Submitting deployment to compute.\n2022-03-16 01:43:26+00:00 Checking the status of deployment mlops-custom-vision-v9..\n2022-03-16 01:46:59+00:00 Checking the status of inference endpoint mlops-custom-vision-v9.\nSucceeded\nACI service creation operation finished, operation \"Succeeded\"\nCPU times: user 412 ms, sys: 63.8 ms, total: 476 ms\nWall time: 3min 41s\n"
        }
      ],
      "execution_count": 39,
      "metadata": {
        "jupyter": {
          "source_hidden": false,
          "outputs_hidden": false
        },
        "nteract": {
          "transient": {
            "deleting": false
          }
        }
      }
    },
    {
      "cell_type": "markdown",
      "source": [
        "### Get container host service endpoint (URL)\n",
        "As long as the model version and environment remains same, this endpoint **WILL NOT** change"
      ],
      "metadata": {
        "nteract": {
          "transient": {
            "deleting": false
          }
        }
      }
    },
    {
      "cell_type": "code",
      "source": [
        "print(service.scoring_uri)"
      ],
      "outputs": [
        {
          "output_type": "stream",
          "name": "stdout",
          "text": "http://32ae3bd2-1ffb-43db-9ae7-d30cf996323e.japaneast.azurecontainer.io/score\n"
        }
      ],
      "execution_count": 40,
      "metadata": {
        "jupyter": {
          "source_hidden": false,
          "outputs_hidden": false
        },
        "nteract": {
          "transient": {
            "deleting": false
          }
        },
        "gather": {
          "logged": 1647395311548
        }
      }
    }
  ],
  "metadata": {
    "kernelspec": {
      "name": "python38-azureml",
      "language": "python",
      "display_name": "Python 3.8 - AzureML"
    },
    "language_info": {
      "name": "python",
      "version": "3.8.1",
      "mimetype": "text/x-python",
      "codemirror_mode": {
        "name": "ipython",
        "version": 3
      },
      "pygments_lexer": "ipython3",
      "nbconvert_exporter": "python",
      "file_extension": ".py"
    },
    "kernel_info": {
      "name": "python38-azureml"
    },
    "nteract": {
      "version": "nteract-front-end@1.0.0"
    },
    "microsoft": {
      "host": {
        "AzureML": {
          "notebookHasBeenCompleted": true
        }
      }
    }
  },
  "nbformat": 4,
  "nbformat_minor": 0
}